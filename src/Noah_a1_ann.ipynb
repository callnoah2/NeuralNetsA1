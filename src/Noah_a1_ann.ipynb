{
 "cells": [
  {
   "cell_type": "markdown",
   "metadata": {},
   "source": [
    "# Author\n",
    "## Noah Call\n",
    "## A02361280\n",
    "This code assumes data comes from \"/data/wine-quality-white.csv\". These can be changed in the first block of code Config & Imports"
   ]
  },
  {
   "cell_type": "markdown",
   "metadata": {},
   "source": [
    "## Config & Imports"
   ]
  },
  {
   "cell_type": "code",
   "execution_count": 9,
   "metadata": {},
   "outputs": [],
   "source": [
    "import pandas as pd\n",
    "from sklearn.model_selection import train_test_split\n",
    "from sklearn.preprocessing import StandardScaler\n",
    "\n",
    "data_path = \"../data/wine-quality-white.csv\""
   ]
  },
  {
   "cell_type": "markdown",
   "metadata": {},
   "source": [
    "## 1."
   ]
  },
  {
   "cell_type": "code",
   "execution_count": 6,
   "metadata": {},
   "outputs": [
    {
     "data": {
      "text/html": [
       "<div>\n",
       "<style scoped>\n",
       "    .dataframe tbody tr th:only-of-type {\n",
       "        vertical-align: middle;\n",
       "    }\n",
       "\n",
       "    .dataframe tbody tr th {\n",
       "        vertical-align: top;\n",
       "    }\n",
       "\n",
       "    .dataframe thead th {\n",
       "        text-align: right;\n",
       "    }\n",
       "</style>\n",
       "<table border=\"1\" class=\"dataframe\">\n",
       "  <thead>\n",
       "    <tr style=\"text-align: right;\">\n",
       "      <th></th>\n",
       "      <th>quality</th>\n",
       "      <th>y</th>\n",
       "    </tr>\n",
       "  </thead>\n",
       "  <tbody>\n",
       "    <tr>\n",
       "      <th>0</th>\n",
       "      <td>6</td>\n",
       "      <td>1</td>\n",
       "    </tr>\n",
       "    <tr>\n",
       "      <th>1</th>\n",
       "      <td>6</td>\n",
       "      <td>1</td>\n",
       "    </tr>\n",
       "    <tr>\n",
       "      <th>2</th>\n",
       "      <td>6</td>\n",
       "      <td>1</td>\n",
       "    </tr>\n",
       "    <tr>\n",
       "      <th>3</th>\n",
       "      <td>6</td>\n",
       "      <td>1</td>\n",
       "    </tr>\n",
       "    <tr>\n",
       "      <th>4</th>\n",
       "      <td>6</td>\n",
       "      <td>1</td>\n",
       "    </tr>\n",
       "  </tbody>\n",
       "</table>\n",
       "</div>"
      ],
      "text/plain": [
       "   quality  y\n",
       "0        6  1\n",
       "1        6  1\n",
       "2        6  1\n",
       "3        6  1\n",
       "4        6  1"
      ]
     },
     "execution_count": 6,
     "metadata": {},
     "output_type": "execute_result"
    }
   ],
   "source": [
    "# Load dataset\n",
    "df = pd.read_csv(data_path, sep=';')\n",
    "\n",
    "# Create the binary target variable\n",
    "df['y'] = df['quality'].apply(lambda x: 0 if x <= 5 else 1)\n",
    "\n",
    "# Check the result\n",
    "df[['quality', 'y']].head()"
   ]
  },
  {
   "cell_type": "markdown",
   "metadata": {},
   "source": [
    "## 2."
   ]
  },
  {
   "cell_type": "code",
   "execution_count": 7,
   "metadata": {},
   "outputs": [
    {
     "name": "stdout",
     "output_type": "stream",
     "text": [
      "Class 0 proportion: 0.33483054307880766\n",
      "Class 1 proportion: 0.6651694569211923\n"
     ]
    }
   ],
   "source": [
    "# Calculate class imbalance ratio\n",
    "class_counts = df['y'].value_counts(normalize=True)\n",
    "class_counts_0 = class_counts[0]  # Proportion of 0's\n",
    "class_counts_1 = class_counts[1]  # Proportion of 1's\n",
    "\n",
    "print(f\"Class 0 proportion: {class_counts_0}\")\n",
    "print(f\"Class 1 proportion: {class_counts_1}\")"
   ]
  },
  {
   "cell_type": "markdown",
   "metadata": {},
   "source": [
    "## 3."
   ]
  },
  {
   "cell_type": "code",
   "execution_count": 8,
   "metadata": {},
   "outputs": [
    {
     "name": "stdout",
     "output_type": "stream",
     "text": [
      "Train set size: 2938\n",
      "Validation set size: 980\n",
      "Test set size: 980\n"
     ]
    }
   ],
   "source": [
    "# Split test set (20%) from the remaining (80%)\n",
    "train_val, test = train_test_split(df, test_size=0.2, stratify=df['y'], random_state=42)\n",
    "\n",
    "# Split the remaining data into train (60%) and validation (20%)\n",
    "train, val = train_test_split(train_val, test_size=0.25, stratify=train_val['y'], random_state=42)  # 0.25 * 0.8 = 0.2\n",
    "\n",
    "# Check the sizes\n",
    "print(f\"Train set size: {train.shape[0]}\")\n",
    "print(f\"Validation set size: {val.shape[0]}\")\n",
    "print(f\"Test set size: {test.shape[0]}\")"
   ]
  },
  {
   "cell_type": "markdown",
   "metadata": {},
   "source": [
    "## 4."
   ]
  },
  {
   "cell_type": "code",
   "execution_count": 10,
   "metadata": {},
   "outputs": [
    {
     "data": {
      "text/html": [
       "<div>\n",
       "<style scoped>\n",
       "    .dataframe tbody tr th:only-of-type {\n",
       "        vertical-align: middle;\n",
       "    }\n",
       "\n",
       "    .dataframe tbody tr th {\n",
       "        vertical-align: top;\n",
       "    }\n",
       "\n",
       "    .dataframe thead th {\n",
       "        text-align: right;\n",
       "    }\n",
       "</style>\n",
       "<table border=\"1\" class=\"dataframe\">\n",
       "  <thead>\n",
       "    <tr style=\"text-align: right;\">\n",
       "      <th></th>\n",
       "      <th>fixed acidity</th>\n",
       "      <th>volatile acidity</th>\n",
       "      <th>citric acid</th>\n",
       "      <th>residual sugar</th>\n",
       "      <th>chlorides</th>\n",
       "      <th>free sulfur dioxide</th>\n",
       "      <th>total sulfur dioxide</th>\n",
       "      <th>density</th>\n",
       "      <th>pH</th>\n",
       "      <th>sulphates</th>\n",
       "      <th>alcohol</th>\n",
       "      <th>quality</th>\n",
       "      <th>y</th>\n",
       "    </tr>\n",
       "  </thead>\n",
       "  <tbody>\n",
       "    <tr>\n",
       "      <th>4755</th>\n",
       "      <td>-0.323928</td>\n",
       "      <td>0.125337</td>\n",
       "      <td>3.317193</td>\n",
       "      <td>-0.814913</td>\n",
       "      <td>-0.856259</td>\n",
       "      <td>-0.814745</td>\n",
       "      <td>-1.048715</td>\n",
       "      <td>-1.333090</td>\n",
       "      <td>-0.444481</td>\n",
       "      <td>-0.104704</td>\n",
       "      <td>1.514126</td>\n",
       "      <td>6</td>\n",
       "      <td>1</td>\n",
       "    </tr>\n",
       "    <tr>\n",
       "      <th>4003</th>\n",
       "      <td>-0.084927</td>\n",
       "      <td>-1.383225</td>\n",
       "      <td>0.143173</td>\n",
       "      <td>-0.953170</td>\n",
       "      <td>0.075184</td>\n",
       "      <td>0.281572</td>\n",
       "      <td>-0.470623</td>\n",
       "      <td>-0.963156</td>\n",
       "      <td>-0.779307</td>\n",
       "      <td>1.950671</td>\n",
       "      <td>0.458833</td>\n",
       "      <td>6</td>\n",
       "      <td>1</td>\n",
       "    </tr>\n",
       "    <tr>\n",
       "      <th>2351</th>\n",
       "      <td>1.229578</td>\n",
       "      <td>-0.276946</td>\n",
       "      <td>0.059646</td>\n",
       "      <td>1.002178</td>\n",
       "      <td>-0.250821</td>\n",
       "      <td>1.031683</td>\n",
       "      <td>1.494889</td>\n",
       "      <td>1.026485</td>\n",
       "      <td>-0.511447</td>\n",
       "      <td>0.666062</td>\n",
       "      <td>-0.758812</td>\n",
       "      <td>6</td>\n",
       "      <td>1</td>\n",
       "    </tr>\n",
       "    <tr>\n",
       "      <th>2434</th>\n",
       "      <td>1.707580</td>\n",
       "      <td>0.024766</td>\n",
       "      <td>-0.525042</td>\n",
       "      <td>2.206988</td>\n",
       "      <td>-0.017960</td>\n",
       "      <td>0.743179</td>\n",
       "      <td>2.674196</td>\n",
       "      <td>2.046301</td>\n",
       "      <td>-1.114133</td>\n",
       "      <td>0.580421</td>\n",
       "      <td>-1.164694</td>\n",
       "      <td>6</td>\n",
       "      <td>1</td>\n",
       "    </tr>\n",
       "    <tr>\n",
       "      <th>299</th>\n",
       "      <td>-0.204428</td>\n",
       "      <td>-1.081512</td>\n",
       "      <td>1.396076</td>\n",
       "      <td>-0.834664</td>\n",
       "      <td>-0.111104</td>\n",
       "      <td>-0.468540</td>\n",
       "      <td>-0.355005</td>\n",
       "      <td>-0.566561</td>\n",
       "      <td>-0.243586</td>\n",
       "      <td>-0.361626</td>\n",
       "      <td>-0.190577</td>\n",
       "      <td>6</td>\n",
       "      <td>1</td>\n",
       "    </tr>\n",
       "  </tbody>\n",
       "</table>\n",
       "</div>"
      ],
      "text/plain": [
       "      fixed acidity  volatile acidity  citric acid  residual sugar  chlorides  \\\n",
       "4755      -0.323928          0.125337     3.317193       -0.814913  -0.856259   \n",
       "4003      -0.084927         -1.383225     0.143173       -0.953170   0.075184   \n",
       "2351       1.229578         -0.276946     0.059646        1.002178  -0.250821   \n",
       "2434       1.707580          0.024766    -0.525042        2.206988  -0.017960   \n",
       "299       -0.204428         -1.081512     1.396076       -0.834664  -0.111104   \n",
       "\n",
       "      free sulfur dioxide  total sulfur dioxide   density        pH  \\\n",
       "4755            -0.814745             -1.048715 -1.333090 -0.444481   \n",
       "4003             0.281572             -0.470623 -0.963156 -0.779307   \n",
       "2351             1.031683              1.494889  1.026485 -0.511447   \n",
       "2434             0.743179              2.674196  2.046301 -1.114133   \n",
       "299             -0.468540             -0.355005 -0.566561 -0.243586   \n",
       "\n",
       "      sulphates   alcohol  quality  y  \n",
       "4755  -0.104704  1.514126        6  1  \n",
       "4003   1.950671  0.458833        6  1  \n",
       "2351   0.666062 -0.758812        6  1  \n",
       "2434   0.580421 -1.164694        6  1  \n",
       "299   -0.361626 -0.190577        6  1  "
      ]
     },
     "execution_count": 10,
     "metadata": {},
     "output_type": "execute_result"
    }
   ],
   "source": [
    "# Features (excluding 'quality' and 'y')\n",
    "features = df.columns[:-2]  # Exclude 'quality' and 'y'\n",
    "\n",
    "# Initialize the scaler and fit on the training data\n",
    "scaler = StandardScaler()\n",
    "scaler.fit(train[features])\n",
    "\n",
    "# Apply the scaler on train, validation, and test sets\n",
    "train_scaled = train.copy()\n",
    "val_scaled = val.copy()\n",
    "test_scaled = test.copy()\n",
    "\n",
    "train_scaled[features] = scaler.transform(train[features])\n",
    "val_scaled[features] = scaler.transform(val[features])\n",
    "test_scaled[features] = scaler.transform(test[features])\n",
    "\n",
    "# Check the result\n",
    "train_scaled.head()"
   ]
  }
 ],
 "metadata": {
  "kernelspec": {
   "display_name": "Python 3",
   "language": "python",
   "name": "python3"
  },
  "language_info": {
   "codemirror_mode": {
    "name": "ipython",
    "version": 3
   },
   "file_extension": ".py",
   "mimetype": "text/x-python",
   "name": "python",
   "nbconvert_exporter": "python",
   "pygments_lexer": "ipython3",
   "version": "3.12.0"
  }
 },
 "nbformat": 4,
 "nbformat_minor": 2
}
